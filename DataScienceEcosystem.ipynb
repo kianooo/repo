{
 "cells": [
  {
   "cell_type": "markdown",
   "id": "e0a7bfd2-e479-41d9-9937-fd92cc7c461b",
   "metadata": {},
   "source": [
    "<H1>Data Science Tools and Ecosystem<H1>"
   ]
  },
  {
   "cell_type": "markdown",
   "id": "46b881da-f7e6-4089-bbc6-9d67b68c3838",
   "metadata": {},
   "source": [
    "In this notebook, Data Science Tools and Ecosystem are summarized."
   ]
  },
  {
   "cell_type": "markdown",
   "id": "cf2b448b-2a4f-42cc-a595-c2c6bf817101",
   "metadata": {},
   "source": [
    "Some of the popular languages that Data Scientists use are:\n",
    "1. Python\n",
    "2. R\n",
    "3. SQL\n",
    "\n"
   ]
  },
  {
   "cell_type": "markdown",
   "id": "c4ccce86-8c8d-44f6-93ff-1e4dce688056",
   "metadata": {},
   "source": [
    "Some of the commonly used libraries used by Data Scientists include:\n",
    "1. Pandas\n",
    "2. Tensorflow\n",
    "3. PyTorch"
   ]
  },
  {
   "cell_type": "markdown",
   "id": "60aec196-1337-4b36-ac10-f3f8dde43b62",
   "metadata": {},
   "source": [
    "| Data Science Tools        |\n",
    "|---------------------------|\n",
    "| Jupyter Notebook          |\n",
    "| RStudio                   |\n",
    "| Apache Zeppelin           |\n"
   ]
  },
  {
   "cell_type": "markdown",
   "id": "d4051944-5c72-4f3a-86b1-1722e4ba6fbe",
   "metadata": {},
   "source": [
    "### Below are a few examples of evaluating arithmetic expressions in Python.\n",
    "\n",
    "1. Addition: `3 + 2 = 5`\n",
    "2. Subtraction: `5 - 3 = 2`\n",
    "3. Multiplication: `4 * 2 = 8`\n",
    "4. Division: `8 / 2 = 4`\n",
    "5. Exponentiation: `2 ** 3 = 8`\n"
   ]
  },
  {
   "cell_type": "code",
   "execution_count": 1,
   "id": "652edaa3-96f8-4e1d-9291-45818e7eeb87",
   "metadata": {
    "tags": []
   },
   "outputs": [
    {
     "data": {
      "text/plain": [
       "17"
      ]
     },
     "execution_count": 1,
     "metadata": {},
     "output_type": "execute_result"
    }
   ],
   "source": [
    "# This is a simple arithmetic expression to multiply then add integers\n",
    "(3 * 4) + 5"
   ]
  },
  {
   "cell_type": "code",
   "execution_count": 2,
   "id": "d7d5f3e7-2a33-417f-b34e-7516a8c5c729",
   "metadata": {
    "tags": []
   },
   "outputs": [
    {
     "data": {
      "text/plain": [
       "3.3333333333333335"
      ]
     },
     "execution_count": 2,
     "metadata": {},
     "output_type": "execute_result"
    }
   ],
   "source": [
    "# This will convert 200 minutes to hours by dividing by 60\n",
    "minutes = 200\n",
    "hours = minutes / 60\n",
    "hours"
   ]
  },
  {
   "cell_type": "markdown",
   "id": "2ed066be-60d6-41e1-a320-ddf01b36b11d",
   "metadata": {},
   "source": [
    "**Objectives:**\n",
    "\n",
    "- List popular languages for Data Science\n",
    "- Describe what a Jupyter Notebook is\n",
    "- Create ordered and unordered lists in Markdown\n",
    "- Create and evaluate arithmetic expressions in Python\n",
    "- Convert units within code cells (e.g., minutes to hours)\n"
   ]
  },
  {
   "cell_type": "markdown",
   "id": "289b9843-e916-4010-9469-e0a309c9b946",
   "metadata": {
    "tags": []
   },
   "source": [
    "## Author\n",
    "Kian Keshtkar"
   ]
  },
  {
   "cell_type": "code",
   "execution_count": null,
   "id": "b215a8aa-2d5e-413c-9a07-165b20b98067",
   "metadata": {},
   "outputs": [],
   "source": []
  }
 ],
 "metadata": {
  "kernelspec": {
   "display_name": "Python",
   "language": "python",
   "name": "conda-env-python-py"
  },
  "language_info": {
   "codemirror_mode": {
    "name": "ipython",
    "version": 3
   },
   "file_extension": ".py",
   "mimetype": "text/x-python",
   "name": "python",
   "nbconvert_exporter": "python",
   "pygments_lexer": "ipython3",
   "version": "3.7.12"
  }
 },
 "nbformat": 4,
 "nbformat_minor": 5
}
